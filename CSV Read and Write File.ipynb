{
 "cells": [
  {
   "cell_type": "code",
   "execution_count": 1,
   "id": "0c31eb10",
   "metadata": {},
   "outputs": [
    {
     "name": "stdout",
     "output_type": "stream",
     "text": [
      "     Age Sex ChestPainType  RestingBP  Cholesterol RestingECG ST_Slope  \\\n",
      "0     40   M           ATA        140          289     Normal       Up   \n",
      "1     49   F           NAP        160          180     Normal     Flat   \n",
      "2     37   M           ATA        130          283         ST       Up   \n",
      "3     48   F           ASY        138          214     Normal     Flat   \n",
      "4     54   M           NAP        150          195     Normal       Up   \n",
      "..   ...  ..           ...        ...          ...        ...      ...   \n",
      "913   45   M            TA        110          264     Normal     Flat   \n",
      "914   68   M           ASY        144          193     Normal     Flat   \n",
      "915   57   M           ASY        130          131     Normal     Flat   \n",
      "916   57   F           ATA        130          236        LVH     Flat   \n",
      "917   38   M           NAP        138          175     Normal       Up   \n",
      "\n",
      "     HeartDisease  \n",
      "0               0  \n",
      "1               1  \n",
      "2               0  \n",
      "3               1  \n",
      "4               0  \n",
      "..            ...  \n",
      "913             1  \n",
      "914             1  \n",
      "915             1  \n",
      "916             1  \n",
      "917             0  \n",
      "\n",
      "[918 rows x 8 columns]\n",
      "  Unnamed: 0  Age Sex ChestPainType  RestingBP  Cholesterol RestingECG  \\\n",
      "0  Patient 1   50   M           ATA        150          200         ST   \n",
      "1  Patient 2    7   F           AST        120          100         ST   \n",
      "\n",
      "  ST_Slope  HeartDisease  \n",
      "0     Flat             1  \n",
      "1       Up             0  \n"
     ]
    }
   ],
   "source": [
    "import pandas as pd\n",
    "lines=pd.read_csv('heart.csv') # Reading the CSV file\n",
    "print(lines) # Printing the lines of the original CSV files\n",
    "# Creating a DataFrame object and storing the information of two new patients\n",
    "df=pd.DataFrame({'Patient 1':{'Age':50,'Sex':'M','ChestPainType':'ATA','RestingBP':150,'Cholesterol':200,'RestingECG':'ST','ST_Slope':'Flat','HeartDisease':1},\n",
    "                'Patient 2':{'Age':7,'Sex':'F','ChestPainType':'AST','RestingBP':120,'Cholesterol':100,'RestingECG':'ST','ST_Slope':'Up','HeartDisease':0}}).T\n",
    "df.to_csv('heart1.csv') # Writing the new data on a new file\n",
    "newlines=pd.read_csv('heart1.csv')\n",
    "print(newlines) # Printing the lines of the new CSV file"
   ]
  }
 ],
 "metadata": {
  "kernelspec": {
   "display_name": "Python 3 (ipykernel)",
   "language": "python",
   "name": "python3"
  },
  "language_info": {
   "codemirror_mode": {
    "name": "ipython",
    "version": 3
   },
   "file_extension": ".py",
   "mimetype": "text/x-python",
   "name": "python",
   "nbconvert_exporter": "python",
   "pygments_lexer": "ipython3",
   "version": "3.10.1"
  }
 },
 "nbformat": 4,
 "nbformat_minor": 5
}
