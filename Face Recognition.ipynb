{
 "cells": [
  {
   "cell_type": "code",
   "execution_count": 36,
   "id": "ef0da9f8",
   "metadata": {},
   "outputs": [],
   "source": [
    "import pandas as pd\n",
    "import numpy as np\n",
    "import matplotlib.pyplot as plt\n",
    "from sklearn.model_selection import train_test_split\n",
    "from sklearn.metrics import roc_curve,auc,accuracy_score,classification_report,confusion_matrix\n",
    "\n",
    "from keras.models import Sequential\n",
    "from keras.layers import Convolution2D,MaxPooling2D,Dense,Flatten,Dropout\n",
    "from keras.utils import np_utils\n",
    "#from keras.callbacks import TensorBoard"
   ]
  },
  {
   "cell_type": "code",
   "execution_count": 37,
   "id": "e2c9713e",
   "metadata": {},
   "outputs": [
    {
     "name": "stdout",
     "output_type": "stream",
     "text": [
      "(240, 10304)\n",
      "[[0.1882353  0.19215687 0.1764706  ... 0.18431373 0.18039216 0.18039216]\n",
      " [0.23529412 0.23529412 0.24313726 ... 0.1254902  0.13333334 0.13333334]\n",
      " [0.15294118 0.17254902 0.20784314 ... 0.11372549 0.10196079 0.11372549]\n",
      " ...\n",
      " [0.44705883 0.45882353 0.44705883 ... 0.38431373 0.3764706  0.38431373]\n",
      " [0.4117647  0.4117647  0.41960785 ... 0.21176471 0.18431373 0.16078432]\n",
      " [0.45490196 0.44705883 0.45882353 ... 0.37254903 0.39215687 0.39607844]]\n"
     ]
    }
   ],
   "source": [
    "data=np.load('faces.npz')\n",
    "x_train=data['trainX']\n",
    "y_train=data['trainY']\n",
    "x_test=data['testX']\n",
    "y_test=data['testY']\n",
    "x_train=np.array(x_train,dtype='float32')/255\n",
    "#x_train/=255\n",
    "x_test=np.array(x_test,dtype='float32')/255\n",
    "#x_test/=255\n",
    "print(x_train.shape)\n",
    "print(x_train)"
   ]
  },
  {
   "cell_type": "code",
   "execution_count": 38,
   "id": "43bb5bd3",
   "metadata": {},
   "outputs": [],
   "source": [
    "x_train,x_validate,y_train,y_validate=train_test_split(x_train,y_train,test_size=0.05,random_state=2)"
   ]
  },
  {
   "cell_type": "code",
   "execution_count": 39,
   "id": "a383cfa8",
   "metadata": {},
   "outputs": [
    {
     "name": "stdout",
     "output_type": "stream",
     "text": [
      "(228, 112, 92, 1)\n",
      "(160, 112, 92, 1)\n",
      "(228, 20)\n"
     ]
    }
   ],
   "source": [
    "x_train=x_train.reshape(x_train.shape[0],112,92,1)\n",
    "x_test=x_test.reshape(x_test.shape[0],112,92,1)\n",
    "x_validate=x_validate.reshape(x_validate.shape[0],112,92,1)\n",
    "y_train=np_utils.to_categorical(y_train,20)\n",
    "y_test=np_utils.to_categorical(y_test,20)\n",
    "y_validate=np_utils.to_categorical(y_validate,20)\n",
    "print(x_train.shape)\n",
    "print(x_test.shape)\n",
    "print(y_train.shape)"
   ]
  },
  {
   "cell_type": "code",
   "execution_count": 40,
   "id": "3e433cb9",
   "metadata": {},
   "outputs": [],
   "source": [
    "model=Sequential()\n",
    "model.add(Convolution2D(36,(7,7),activation='relu',input_shape=(112,92,1)))\n",
    "model.add(MaxPooling2D(pool_size=(2,2)))\n",
    "model.add(Convolution2D(54,(5,5),activation='relu',input_shape=(112,92,1)))\n",
    "model.add(MaxPooling2D(pool_size=(2,2)))\n",
    "model.add(Flatten())\n",
    "model.add(Dense(1024,activation='relu'))\n",
    "model.add(Dropout(0.5))\n",
    "model.add(Dense(1024,activation='relu'))\n",
    "model.add(Dropout(0.5))\n",
    "model.add(Dense(512,activation='relu'))\n",
    "model.add(Dropout(0.5))\n",
    "model.add(Dense(20,activation='softmax'))\n",
    "model.compile(loss='categorical_crossentropy',optimizer='adam',metrics=['accuracy'])"
   ]
  },
  {
   "cell_type": "code",
   "execution_count": 41,
   "id": "144cda64",
   "metadata": {},
   "outputs": [
    {
     "name": "stdout",
     "output_type": "stream",
     "text": [
      "Model: \"sequential_4\"\n",
      "_________________________________________________________________\n",
      " Layer (type)                Output Shape              Param #   \n",
      "=================================================================\n",
      " conv2d_8 (Conv2D)           (None, 106, 86, 36)       1800      \n",
      "                                                                 \n",
      " max_pooling2d_8 (MaxPooling  (None, 53, 43, 36)       0         \n",
      " 2D)                                                             \n",
      "                                                                 \n",
      " conv2d_9 (Conv2D)           (None, 49, 39, 54)        48654     \n",
      "                                                                 \n",
      " max_pooling2d_9 (MaxPooling  (None, 24, 19, 54)       0         \n",
      " 2D)                                                             \n",
      "                                                                 \n",
      " flatten_4 (Flatten)         (None, 24624)             0         \n",
      "                                                                 \n",
      " dense_16 (Dense)            (None, 1024)              25216000  \n",
      "                                                                 \n",
      " dropout_12 (Dropout)        (None, 1024)              0         \n",
      "                                                                 \n",
      " dense_17 (Dense)            (None, 1024)              1049600   \n",
      "                                                                 \n",
      " dropout_13 (Dropout)        (None, 1024)              0         \n",
      "                                                                 \n",
      " dense_18 (Dense)            (None, 512)               524800    \n",
      "                                                                 \n",
      " dropout_14 (Dropout)        (None, 512)               0         \n",
      "                                                                 \n",
      " dense_19 (Dense)            (None, 20)                10260     \n",
      "                                                                 \n",
      "=================================================================\n",
      "Total params: 26,851,114\n",
      "Trainable params: 26,851,114\n",
      "Non-trainable params: 0\n",
      "_________________________________________________________________\n"
     ]
    }
   ],
   "source": [
    "model.summary()"
   ]
  },
  {
   "cell_type": "code",
   "execution_count": 42,
   "id": "5fae6602",
   "metadata": {},
   "outputs": [
    {
     "name": "stdout",
     "output_type": "stream",
     "text": [
      "Epoch 1/50\n",
      "1/1 [==============================] - 5s 5s/step - loss: 2.9918 - accuracy: 0.0789 - val_loss: 3.2133 - val_accuracy: 0.0000e+00\n",
      "Epoch 2/50\n",
      "1/1 [==============================] - 4s 4s/step - loss: 3.6591 - accuracy: 0.0614 - val_loss: 2.9818 - val_accuracy: 0.0000e+00\n",
      "Epoch 3/50\n",
      "1/1 [==============================] - 4s 4s/step - loss: 3.0962 - accuracy: 0.0439 - val_loss: 2.9709 - val_accuracy: 0.0000e+00\n",
      "Epoch 4/50\n",
      "1/1 [==============================] - 5s 5s/step - loss: 2.9930 - accuracy: 0.0395 - val_loss: 2.9920 - val_accuracy: 0.0833\n",
      "Epoch 5/50\n",
      "1/1 [==============================] - 4s 4s/step - loss: 2.9895 - accuracy: 0.0833 - val_loss: 2.9997 - val_accuracy: 0.0000e+00\n",
      "Epoch 6/50\n",
      "1/1 [==============================] - 4s 4s/step - loss: 2.9897 - accuracy: 0.0789 - val_loss: 3.0004 - val_accuracy: 0.0000e+00\n",
      "Epoch 7/50\n",
      "1/1 [==============================] - 4s 4s/step - loss: 2.9825 - accuracy: 0.0746 - val_loss: 3.0053 - val_accuracy: 0.0000e+00\n",
      "Epoch 8/50\n",
      "1/1 [==============================] - 4s 4s/step - loss: 2.9892 - accuracy: 0.0570 - val_loss: 2.9979 - val_accuracy: 0.0000e+00\n",
      "Epoch 9/50\n",
      "1/1 [==============================] - 4s 4s/step - loss: 2.9729 - accuracy: 0.0570 - val_loss: 2.9908 - val_accuracy: 0.0000e+00\n",
      "Epoch 10/50\n",
      "1/1 [==============================] - 4s 4s/step - loss: 2.9579 - accuracy: 0.1009 - val_loss: 3.0069 - val_accuracy: 0.0000e+00\n",
      "Epoch 11/50\n",
      "1/1 [==============================] - 4s 4s/step - loss: 2.9410 - accuracy: 0.1096 - val_loss: 3.0140 - val_accuracy: 0.0000e+00\n",
      "Epoch 12/50\n",
      "1/1 [==============================] - 6s 6s/step - loss: 2.9326 - accuracy: 0.0746 - val_loss: 2.9989 - val_accuracy: 0.0000e+00\n",
      "Epoch 13/50\n",
      "1/1 [==============================] - 5s 5s/step - loss: 2.9089 - accuracy: 0.0746 - val_loss: 2.9680 - val_accuracy: 0.0000e+00\n",
      "Epoch 14/50\n",
      "1/1 [==============================] - 6s 6s/step - loss: 2.8825 - accuracy: 0.1184 - val_loss: 2.9486 - val_accuracy: 0.0000e+00\n",
      "Epoch 15/50\n",
      "1/1 [==============================] - 6s 6s/step - loss: 2.8239 - accuracy: 0.1579 - val_loss: 2.9541 - val_accuracy: 0.0000e+00\n",
      "Epoch 16/50\n",
      "1/1 [==============================] - 5s 5s/step - loss: 2.7571 - accuracy: 0.1360 - val_loss: 2.8825 - val_accuracy: 0.1667\n",
      "Epoch 17/50\n",
      "1/1 [==============================] - 6s 6s/step - loss: 2.6384 - accuracy: 0.2544 - val_loss: 2.8564 - val_accuracy: 0.1667\n",
      "Epoch 18/50\n",
      "1/1 [==============================] - 6s 6s/step - loss: 2.5721 - accuracy: 0.2368 - val_loss: 2.7214 - val_accuracy: 0.1667\n",
      "Epoch 19/50\n",
      "1/1 [==============================] - 6s 6s/step - loss: 2.4302 - accuracy: 0.2982 - val_loss: 2.6099 - val_accuracy: 0.2500\n",
      "Epoch 20/50\n",
      "1/1 [==============================] - 6s 6s/step - loss: 2.3113 - accuracy: 0.2719 - val_loss: 2.5001 - val_accuracy: 0.2500\n",
      "Epoch 21/50\n",
      "1/1 [==============================] - 6s 6s/step - loss: 2.0875 - accuracy: 0.3202 - val_loss: 2.2918 - val_accuracy: 0.3333\n",
      "Epoch 22/50\n",
      "1/1 [==============================] - 5s 5s/step - loss: 2.0069 - accuracy: 0.3421 - val_loss: 2.1113 - val_accuracy: 0.5000\n",
      "Epoch 23/50\n",
      "1/1 [==============================] - 6s 6s/step - loss: 1.7611 - accuracy: 0.4605 - val_loss: 1.8694 - val_accuracy: 0.5833\n",
      "Epoch 24/50\n",
      "1/1 [==============================] - 5s 5s/step - loss: 1.6176 - accuracy: 0.5175 - val_loss: 1.5943 - val_accuracy: 0.5833\n",
      "Epoch 25/50\n",
      "1/1 [==============================] - 5s 5s/step - loss: 1.5391 - accuracy: 0.5044 - val_loss: 1.5674 - val_accuracy: 0.5833\n",
      "Epoch 26/50\n",
      "1/1 [==============================] - 5s 5s/step - loss: 1.3911 - accuracy: 0.5614 - val_loss: 1.4594 - val_accuracy: 0.6667\n",
      "Epoch 27/50\n",
      "1/1 [==============================] - 5s 5s/step - loss: 1.1488 - accuracy: 0.6798 - val_loss: 1.2190 - val_accuracy: 0.7500\n",
      "Epoch 28/50\n",
      "1/1 [==============================] - 6s 6s/step - loss: 1.2016 - accuracy: 0.6140 - val_loss: 1.0457 - val_accuracy: 0.7500\n",
      "Epoch 29/50\n",
      "1/1 [==============================] - 6s 6s/step - loss: 0.9620 - accuracy: 0.6930 - val_loss: 0.9930 - val_accuracy: 0.6667\n",
      "Epoch 30/50\n",
      "1/1 [==============================] - 5s 5s/step - loss: 0.8542 - accuracy: 0.7368 - val_loss: 0.7847 - val_accuracy: 0.6667\n",
      "Epoch 31/50\n",
      "1/1 [==============================] - 6s 6s/step - loss: 0.7150 - accuracy: 0.7544 - val_loss: 0.6646 - val_accuracy: 0.7500\n",
      "Epoch 32/50\n",
      "1/1 [==============================] - 6s 6s/step - loss: 0.7206 - accuracy: 0.7412 - val_loss: 0.6977 - val_accuracy: 0.7500\n",
      "Epoch 33/50\n",
      "1/1 [==============================] - 5s 5s/step - loss: 0.6009 - accuracy: 0.8114 - val_loss: 0.6931 - val_accuracy: 0.8333\n",
      "Epoch 34/50\n",
      "1/1 [==============================] - 5s 5s/step - loss: 0.4744 - accuracy: 0.8289 - val_loss: 0.7152 - val_accuracy: 0.8333\n",
      "Epoch 35/50\n",
      "1/1 [==============================] - 5s 5s/step - loss: 0.5613 - accuracy: 0.8158 - val_loss: 0.4537 - val_accuracy: 0.9167\n",
      "Epoch 36/50\n",
      "1/1 [==============================] - 5s 5s/step - loss: 0.3441 - accuracy: 0.8947 - val_loss: 0.3473 - val_accuracy: 0.9167\n",
      "Epoch 37/50\n",
      "1/1 [==============================] - 6s 6s/step - loss: 0.3427 - accuracy: 0.8947 - val_loss: 0.3082 - val_accuracy: 0.9167\n",
      "Epoch 38/50\n",
      "1/1 [==============================] - 6s 6s/step - loss: 0.2291 - accuracy: 0.9167 - val_loss: 0.2834 - val_accuracy: 0.9167\n",
      "Epoch 39/50\n",
      "1/1 [==============================] - 5s 5s/step - loss: 0.2482 - accuracy: 0.9167 - val_loss: 0.2407 - val_accuracy: 0.9167\n",
      "Epoch 40/50\n",
      "1/1 [==============================] - 5s 5s/step - loss: 0.1619 - accuracy: 0.9474 - val_loss: 0.1621 - val_accuracy: 0.9167\n",
      "Epoch 41/50\n",
      "1/1 [==============================] - 5s 5s/step - loss: 0.1795 - accuracy: 0.9430 - val_loss: 0.1738 - val_accuracy: 0.9167\n",
      "Epoch 42/50\n",
      "1/1 [==============================] - 5s 5s/step - loss: 0.1395 - accuracy: 0.9561 - val_loss: 0.1867 - val_accuracy: 0.9167\n",
      "Epoch 43/50\n",
      "1/1 [==============================] - 6s 6s/step - loss: 0.0933 - accuracy: 0.9693 - val_loss: 0.1922 - val_accuracy: 0.9167\n",
      "Epoch 44/50\n",
      "1/1 [==============================] - 6s 6s/step - loss: 0.0769 - accuracy: 0.9825 - val_loss: 0.2211 - val_accuracy: 0.9167\n",
      "Epoch 45/50\n",
      "1/1 [==============================] - 6s 6s/step - loss: 0.0950 - accuracy: 0.9693 - val_loss: 0.2794 - val_accuracy: 0.9167\n",
      "Epoch 46/50\n",
      "1/1 [==============================] - 6s 6s/step - loss: 0.0541 - accuracy: 0.9912 - val_loss: 0.3242 - val_accuracy: 0.9167\n",
      "Epoch 47/50\n",
      "1/1 [==============================] - 6s 6s/step - loss: 0.0625 - accuracy: 0.9868 - val_loss: 0.3353 - val_accuracy: 0.9167\n",
      "Epoch 48/50\n",
      "1/1 [==============================] - 6s 6s/step - loss: 0.0795 - accuracy: 0.9825 - val_loss: 0.3197 - val_accuracy: 0.9167\n",
      "Epoch 49/50\n",
      "1/1 [==============================] - 6s 6s/step - loss: 0.0510 - accuracy: 0.9868 - val_loss: 0.2833 - val_accuracy: 0.9167\n",
      "Epoch 50/50\n",
      "1/1 [==============================] - 6s 6s/step - loss: 0.0455 - accuracy: 0.9912 - val_loss: 0.2377 - val_accuracy: 0.9167\n"
     ]
    }
   ],
   "source": [
    "history=model.fit(x_train,y_train,epochs=50,batch_size=512,validation_data=(x_validate,y_validate))"
   ]
  },
  {
   "cell_type": "code",
   "execution_count": 44,
   "id": "bd9a42da",
   "metadata": {},
   "outputs": [
    {
     "name": "stdout",
     "output_type": "stream",
     "text": [
      "dict_keys(['loss', 'accuracy', 'val_loss', 'val_accuracy'])\n"
     ]
    },
    {
     "data": {
      "image/png": "[encoded data removed]",
      "text/plain": [
       "<Figure size 432x288 with 1 Axes>"
      ]
     },
     "metadata": {
      "needs_background": "light"
     },
     "output_type": "display_data"
    }
   ],
   "source": [
    "print(history.history.keys())\n",
    "plt.plot(history.history['accuracy'])\n",
    "plt.plot(history.history['val_accuracy'])\n",
    "plt.title('Model Accuracy')\n",
    "plt.xlabel('Epochs')\n",
    "plt.ylabel('Accuracy')\n",
    "plt.legend(['Training set, Validation Set'], loc='upper left')\n",
    "plt.show()"
   ]
  },
  {
   "cell_type": "code",
   "execution_count": null,
   "id": "313f4650",
   "metadata": {},
   "outputs": [],
   "source": []
  }
 ],
 "metadata": {
  "kernelspec": {
   "display_name": "Python 3 (ipykernel)",
   "language": "python",
   "name": "python3"
  },
  "language_info": {
   "codemirror_mode": {
    "name": "ipython",
    "version": 3
   },
   "file_extension": ".py",
   "mimetype": "text/x-python",
   "name": "python",
   "nbconvert_exporter": "python",
   "pygments_lexer": "ipython3",
   "version": "3.10.1"
  }
 },
 "nbformat": 4,
 "nbformat_minor": 5
}
